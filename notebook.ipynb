{
 "cells": [
  {
   "cell_type": "code",
   "execution_count": 1,
   "metadata": {},
   "outputs": [],
   "source": [
    "import napari\n",
    "import numpy as np\n",
    "import matplotlib.pyplot as plt\n",
    "from skimage import data as skdata\n",
    "import imageio as iio\n",
    "from PIL import Image\n",
    "Image.MAX_IMAGE_PIXELS = None\n",
    "\n",
    "#todo error handling when no input is given\n",
    "#todo error handling when no output is given\n",
    "\n",
    "# todo refresh layers names on change\n",
    "\n",
    "# create empty viewer\n",
    "viewer = napari.Viewer()\n",
    "napari.run()"
   ]
  },
  {
   "cell_type": "code",
   "execution_count": null,
   "metadata": {},
   "outputs": [],
   "source": [
    "data = skdata.coins()\n",
    "# data = iio.imread('/Users/etiennecomtois/Repositories/stage-etienne-comtois/data/orthophoto.png')\n",
    "viewer = napari.view_image(data, name='data')\n",
    "napari.run()"
   ]
  },
  {
   "cell_type": "code",
   "execution_count": 8,
   "metadata": {},
   "outputs": [
    {
     "name": "stdout",
     "output_type": "stream",
     "text": [
      "False\n"
     ]
    }
   ],
   "source": [
    "import os\n",
    "\n",
    "# def is_dir_empty(directory):\n",
    "    # return not any(True for _ in os.scandir(directory))\n",
    "\n",
    "def is_dir_empty(directory, ignore_hidden=True):\n",
    "    files = os.listdir(directory)\n",
    "    if ignore_hidden:\n",
    "        files = [file for file in files if not file.startswith('.')]\n",
    "    return not files\n",
    "\n",
    "path_0 = '/Users/etiennecomtois/Repositories/napari-linum/data/slice_z17_10um.zarr'\n",
    "path_1 = '/Users/etiennecomtois/Repositories/napari-linum/data/empty'\n",
    "\n",
    "print(is_dir_empty(path_1))"
   ]
  }
 ],
 "metadata": {
  "kernelspec": {
   "display_name": "napari_linum",
   "language": "python",
   "name": "python3"
  },
  "language_info": {
   "codemirror_mode": {
    "name": "ipython",
    "version": 3
   },
   "file_extension": ".py",
   "mimetype": "text/x-python",
   "name": "python",
   "nbconvert_exporter": "python",
   "pygments_lexer": "ipython3",
   "version": "3.10.13"
  }
 },
 "nbformat": 4,
 "nbformat_minor": 2
}
