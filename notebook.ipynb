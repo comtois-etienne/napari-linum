{
 "cells": [
  {
   "cell_type": "code",
   "execution_count": 1,
   "metadata": {},
   "outputs": [],
   "source": [
    "import napari\n",
    "import numpy as np\n",
    "import matplotlib.pyplot as plt\n",
    "from skimage import data as skdata\n",
    "import imageio as iio\n",
    "from PIL import Image\n",
    "Image.MAX_IMAGE_PIXELS = None\n",
    "\n",
    "#todo error handling when no input is given\n",
    "#todo error handling when no output is given\n",
    "\n",
    "# todo refresh layers names on change"
   ]
  },
  {
   "cell_type": "code",
   "execution_count": 2,
   "metadata": {},
   "outputs": [],
   "source": [
    "data = skdata.coins()\n",
    "# data = iio.imread('/Users/etiennecomtois/Repositories/stage-etienne-comtois/data/orthophoto.png')\n",
    "viewer = napari.view_image(data, name='data')\n",
    "napari.run()"
   ]
  },
  {
   "cell_type": "code",
   "execution_count": 4,
   "metadata": {},
   "outputs": [],
   "source": [
    "# hide \"data\" layer\n",
    "viewer.layers['data'].visible = True"
   ]
  },
  {
   "cell_type": "code",
   "execution_count": 3,
   "metadata": {},
   "outputs": [
    {
     "ename": "AttributeError",
     "evalue": "module 'zarr' has no attribute 'open'",
     "output_type": "error",
     "traceback": [
      "\u001b[0;31m---------------------------------------------------------------------------\u001b[0m",
      "\u001b[0;31mAttributeError\u001b[0m                            Traceback (most recent call last)",
      "Cell \u001b[0;32mIn[3], line 7\u001b[0m\n\u001b[1;32m      4\u001b[0m resolution \u001b[38;5;241m=\u001b[39m \u001b[38;5;241m10.0\u001b[39m\n\u001b[1;32m      5\u001b[0m zarr_location \u001b[38;5;241m=\u001b[39m \u001b[38;5;124m\"\u001b[39m\u001b[38;5;124m/Users/etiennecomtois/Downloads/slice_z17_10um.zarr\u001b[39m\u001b[38;5;124m\"\u001b[39m\n\u001b[0;32m----> 7\u001b[0m vol \u001b[38;5;241m=\u001b[39m \u001b[43mzarr\u001b[49m\u001b[38;5;241;43m.\u001b[39;49m\u001b[43mopen\u001b[49m(zarr_location, mode\u001b[38;5;241m=\u001b[39m\u001b[38;5;124m\"\u001b[39m\u001b[38;5;124mr\u001b[39m\u001b[38;5;124m\"\u001b[39m)\n\u001b[1;32m      8\u001b[0m scale \u001b[38;5;241m=\u001b[39m (resolution, resolution, resolution)\n\u001b[1;32m     10\u001b[0m \u001b[38;5;66;03m# Prepare the viewer\u001b[39;00m\n",
      "\u001b[0;31mAttributeError\u001b[0m: module 'zarr' has no attribute 'open'"
     ]
    },
    {
     "name": "stderr",
     "output_type": "stream",
     "text": [
      "Traceback (most recent call last):\n",
      "  File \"/opt/anaconda3/envs/napari_linum/lib/python3.10/site-packages/psygnal/_signal.py\", line 1196, in _run_emit_loop\n",
      "    self._run_emit_loop_inner()\n",
      "  File \"/opt/anaconda3/envs/napari_linum/lib/python3.10/site-packages/psygnal/_signal.py\", line 1225, in _run_emit_loop_immediate\n",
      "    caller.cb(args)\n",
      "  File \"/opt/anaconda3/envs/napari_linum/lib/python3.10/site-packages/psygnal/_weak_callback.py\", line 453, in cb\n",
      "    func(obj, *self._args, *args, **self._kwargs)\n",
      "  File \"/Users/etiennecomtois/Repositories/napari-linum/napari-linum/src/napari_linum/layer/points_layer/manipulator.py\", line 40, in _resterize\n",
      "    raster = points.to_labels()\n",
      "AttributeError: 'Points' object has no attribute 'to_labels'\n",
      "\n",
      "The above exception was the direct cause of the following exception:\n",
      "\n",
      "Traceback (most recent call last):\n",
      "  File \"/opt/anaconda3/envs/napari_linum/lib/python3.10/site-packages/magicgui/widgets/bases/_value_widget.py\", line 71, in _on_value_change\n",
      "    self.changed.emit(value)\n",
      "  File \"/opt/anaconda3/envs/napari_linum/lib/python3.10/site-packages/psygnal/_signal.py\", line 1176, in emit\n",
      "    self._run_emit_loop(args)\n",
      "  File \"/opt/anaconda3/envs/napari_linum/lib/python3.10/site-packages/psygnal/_signal.py\", line 1213, in _run_emit_loop\n",
      "    raise loop_err from cb_err  # emit() call ABOVE || callback error BELOW\n",
      "  File \"/opt/anaconda3/envs/napari_linum/lib/python3.10/site-packages/psygnal/_signal.py\", line 1196, in _run_emit_loop\n",
      "    self._run_emit_loop_inner()\n",
      "  File \"/opt/anaconda3/envs/napari_linum/lib/python3.10/site-packages/psygnal/_signal.py\", line 1225, in _run_emit_loop_immediate\n",
      "    caller.cb(args)\n",
      "  File \"/opt/anaconda3/envs/napari_linum/lib/python3.10/site-packages/psygnal/_weak_callback.py\", line 453, in cb\n",
      "    func(obj, *self._args, *args, **self._kwargs)\n",
      "  File \"/Users/etiennecomtois/Repositories/napari-linum/napari-linum/src/napari_linum/layer/points_layer/manipulator.py\", line 40, in _resterize\n",
      "    raster = points.to_labels()\n",
      "psygnal.EmitLoopError: \n",
      "\n",
      "While emitting signal 'magicgui.widgets.PushButton.changed', a AttributeError occurred in a callback:\n",
      "\n",
      "  Signal emitted at: /opt/anaconda3/envs/napari_linum/lib/python3.10/site-packages/magicgui/widgets/bases/_value_widget.py:71, in _on_value_change\n",
      "    >  self.changed.emit(value)\n",
      "\n",
      "  Callback error at: /Users/etiennecomtois/Repositories/napari-linum/napari-linum/src/napari_linum/layer/points_layer/manipulator.py:40, in _resterize\n",
      "    >  raster = points.to_labels()\n",
      "\n",
      "    Local variables:\n",
      "       points = <Points layer 'Points' at 0x17a228df0>\n",
      "\n",
      "See AttributeError above for original traceback.\n"
     ]
    }
   ],
   "source": [
    "import zarr\n",
    "import napari\n",
    "\n",
    "resolution = 10.0\n",
    "zarr_location = \"/Users/etiennecomtois/Downloads/slice_z17_10um.zarr\"\n",
    "\n",
    "vol = zarr.open(zarr_location, mode=\"r\")\n",
    "scale = (resolution, resolution, resolution)\n",
    "\n",
    "# Prepare the viewer\n",
    "viewer = napari.Viewer()\n",
    "viewer.add_image(vol, scale=scale, colormap=\"magma\")\n",
    "viewer.scale_bar.visible = True\n",
    "viewer.scale_bar.unit = \"um\"\n",
    "\n",
    "napari.run()"
   ]
  }
 ],
 "metadata": {
  "kernelspec": {
   "display_name": "napari_linum",
   "language": "python",
   "name": "python3"
  },
  "language_info": {
   "codemirror_mode": {
    "name": "ipython",
    "version": 3
   },
   "file_extension": ".py",
   "mimetype": "text/x-python",
   "name": "python",
   "nbconvert_exporter": "python",
   "pygments_lexer": "ipython3",
   "version": "3.10.13"
  }
 },
 "nbformat": 4,
 "nbformat_minor": 2
}
